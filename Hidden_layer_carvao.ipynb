{
  "nbformat": 4,
  "nbformat_minor": 0,
  "metadata": {
    "colab": {
      "name": "Hidden_layer_carvao.ipynb",
      "provenance": [],
      "authorship_tag": "ABX9TyOew5cuQkrgpyIMeS2RVVQu",
      "include_colab_link": true
    },
    "kernelspec": {
      "name": "python3",
      "display_name": "Python 3"
    },
    "language_info": {
      "name": "python"
    }
  },
  "cells": [
    {
      "cell_type": "markdown",
      "metadata": {
        "id": "view-in-github",
        "colab_type": "text"
      },
      "source": [
        "<a href=\"https://colab.research.google.com/github/anacarolinasm1609/anacarolinasm1609/blob/main/Hidden_layer_carvao.ipynb\" target=\"_parent\"><img src=\"https://colab.research.google.com/assets/colab-badge.svg\" alt=\"Open In Colab\"/></a>"
      ]
    },
    {
      "cell_type": "code",
      "metadata": {
        "id": "_526vU2Xey67"
      },
      "source": [
        "# Bibliotecas\n",
        "import numpy as np\n",
        "import pandas as pd\n",
        "import matplotlib.pyplot as plt\n",
        "from sklearn.neural_network import MLPRegressor\n",
        "from sklearn.model_selection import train_test_split\n",
        "from sklearn.metrics import mean_squared_error\n",
        "from sklearn import preprocessing\n",
        "from sklearn.metrics import r2_score \n",
        "from google.colab import files"
      ],
      "execution_count": 139,
      "outputs": []
    },
    {
      "cell_type": "code",
      "metadata": {
        "id": "B_IUgZK2fZON"
      },
      "source": [
        "# Gerar grafico no browser\n",
        "%matplotlib inline"
      ],
      "execution_count": 140,
      "outputs": []
    },
    {
      "cell_type": "code",
      "metadata": {
        "colab": {
          "base_uri": "https://localhost:8080/"
        },
        "id": "Pt3fQvnffchd",
        "outputId": "6344a1a2-52a7-4b12-90a4-8c219715ed70"
      },
      "source": [
        "!git clone https://github.com/anacarolinasm1609/anacarolinasm1609\n",
        "%cd anacarolinasm1609"
      ],
      "execution_count": 141,
      "outputs": [
        {
          "output_type": "stream",
          "text": [
            "Cloning into 'anacarolinasm1609'...\n",
            "remote: Enumerating objects: 27, done.\u001b[K\n",
            "remote: Counting objects: 100% (27/27), done.\u001b[K\n",
            "remote: Compressing objects: 100% (27/27), done.\u001b[K\n",
            "remote: Total 27 (delta 12), reused 0 (delta 0), pack-reused 0\u001b[K\n",
            "Unpacking objects: 100% (27/27), done.\n",
            "/content/anacarolinasm1609/anacarolinasm1609/anacarolinasm1609/anacarolinasm1609/anacarolinasm1609/anacarolinasm1609/anacarolinasm1609/anacarolinasm1609/anacarolinasm1609\n"
          ],
          "name": "stdout"
        }
      ]
    },
    {
      "cell_type": "code",
      "metadata": {
        "id": "uWnmbQQqff_l"
      },
      "source": [
        "# Leitura dos dados\n",
        "df=pd.read_csv(\"Paper_Carvao_China_abril_12_2016.csv\")"
      ],
      "execution_count": 142,
      "outputs": []
    },
    {
      "cell_type": "code",
      "metadata": {
        "colab": {
          "base_uri": "https://localhost:8080/",
          "height": 206
        },
        "id": "gZUEKQG3fwIl",
        "outputId": "e9c010a6-b83f-4a98-e5a6-3b797d15ee24"
      },
      "source": [
        "# Leitura das cinco primeiras linhas da tabela\n",
        "df.head(5)"
      ],
      "execution_count": 143,
      "outputs": [
        {
          "output_type": "execute_result",
          "data": {
            "text/html": [
              "<div>\n",
              "<style scoped>\n",
              "    .dataframe tbody tr th:only-of-type {\n",
              "        vertical-align: middle;\n",
              "    }\n",
              "\n",
              "    .dataframe tbody tr th {\n",
              "        vertical-align: top;\n",
              "    }\n",
              "\n",
              "    .dataframe thead th {\n",
              "        text-align: right;\n",
              "    }\n",
              "</style>\n",
              "<table border=\"1\" class=\"dataframe\">\n",
              "  <thead>\n",
              "    <tr style=\"text-align: right;\">\n",
              "      <th></th>\n",
              "      <th>Unnamed: 0</th>\n",
              "      <th>Cod</th>\n",
              "      <th>Water</th>\n",
              "      <th>Ash</th>\n",
              "      <th>Volatil</th>\n",
              "      <th>FixC</th>\n",
              "      <th>NetCal</th>\n",
              "      <th>Carbon</th>\n",
              "      <th>Hydrog</th>\n",
              "      <th>Nitro</th>\n",
              "      <th>Sulfur</th>\n",
              "      <th>Oxygen</th>\n",
              "      <th>TC</th>\n",
              "      <th>Ea</th>\n",
              "    </tr>\n",
              "  </thead>\n",
              "  <tbody>\n",
              "    <tr>\n",
              "      <th>0</th>\n",
              "      <td>1</td>\n",
              "      <td>LL</td>\n",
              "      <td>4.19</td>\n",
              "      <td>19.45</td>\n",
              "      <td>33.19</td>\n",
              "      <td>43.17</td>\n",
              "      <td>23.91</td>\n",
              "      <td>59.22</td>\n",
              "      <td>4.08</td>\n",
              "      <td>1.02</td>\n",
              "      <td>4.38</td>\n",
              "      <td>7.66</td>\n",
              "      <td>435</td>\n",
              "      <td>170.1</td>\n",
              "    </tr>\n",
              "    <tr>\n",
              "      <th>1</th>\n",
              "      <td>2</td>\n",
              "      <td>YY</td>\n",
              "      <td>1.06</td>\n",
              "      <td>20.46</td>\n",
              "      <td>31.53</td>\n",
              "      <td>46.94</td>\n",
              "      <td>23.91</td>\n",
              "      <td>64.22</td>\n",
              "      <td>4.63</td>\n",
              "      <td>1.38</td>\n",
              "      <td>0.74</td>\n",
              "      <td>7.51</td>\n",
              "      <td>451</td>\n",
              "      <td>206.6</td>\n",
              "    </tr>\n",
              "    <tr>\n",
              "      <th>2</th>\n",
              "      <td>3</td>\n",
              "      <td>SF</td>\n",
              "      <td>6.60</td>\n",
              "      <td>9.56</td>\n",
              "      <td>31.49</td>\n",
              "      <td>52.35</td>\n",
              "      <td>26.22</td>\n",
              "      <td>66.34</td>\n",
              "      <td>3.61</td>\n",
              "      <td>0.95</td>\n",
              "      <td>0.38</td>\n",
              "      <td>12.56</td>\n",
              "      <td>431</td>\n",
              "      <td>273.5</td>\n",
              "    </tr>\n",
              "    <tr>\n",
              "      <th>3</th>\n",
              "      <td>4</td>\n",
              "      <td>YM</td>\n",
              "      <td>9.47</td>\n",
              "      <td>14.19</td>\n",
              "      <td>30.02</td>\n",
              "      <td>46.32</td>\n",
              "      <td>23.80</td>\n",
              "      <td>58.44</td>\n",
              "      <td>2.92</td>\n",
              "      <td>0.83</td>\n",
              "      <td>0.44</td>\n",
              "      <td>13.71</td>\n",
              "      <td>403</td>\n",
              "      <td>160.8</td>\n",
              "    </tr>\n",
              "    <tr>\n",
              "      <th>4</th>\n",
              "      <td>5</td>\n",
              "      <td>ZZ</td>\n",
              "      <td>1.84</td>\n",
              "      <td>18.10</td>\n",
              "      <td>29.43</td>\n",
              "      <td>50.63</td>\n",
              "      <td>27.73</td>\n",
              "      <td>65.88</td>\n",
              "      <td>4.06</td>\n",
              "      <td>1.22</td>\n",
              "      <td>0.88</td>\n",
              "      <td>8.02</td>\n",
              "      <td>466</td>\n",
              "      <td>228.4</td>\n",
              "    </tr>\n",
              "  </tbody>\n",
              "</table>\n",
              "</div>"
            ],
            "text/plain": [
              "   Unnamed: 0 Cod  Water    Ash  Volatil  ...  Nitro  Sulfur  Oxygen   TC     Ea\n",
              "0           1  LL   4.19  19.45    33.19  ...   1.02    4.38    7.66  435  170.1\n",
              "1           2  YY   1.06  20.46    31.53  ...   1.38    0.74    7.51  451  206.6\n",
              "2           3  SF   6.60   9.56    31.49  ...   0.95    0.38   12.56  431  273.5\n",
              "3           4  YM   9.47  14.19    30.02  ...   0.83    0.44   13.71  403  160.8\n",
              "4           5  ZZ   1.84  18.10    29.43  ...   1.22    0.88    8.02  466  228.4\n",
              "\n",
              "[5 rows x 14 columns]"
            ]
          },
          "metadata": {
            "tags": []
          },
          "execution_count": 143
        }
      ]
    },
    {
      "cell_type": "code",
      "metadata": {
        "colab": {
          "base_uri": "https://localhost:8080/",
          "height": 206
        },
        "id": "22bGIvPHf0Du",
        "outputId": "1c8f6e4e-5ef4-41cf-efbe-ccf99ed52308"
      },
      "source": [
        "# Leitura das cinco ultimas linhas da tabela\n",
        "df.tail(5)"
      ],
      "execution_count": 144,
      "outputs": [
        {
          "output_type": "execute_result",
          "data": {
            "text/html": [
              "<div>\n",
              "<style scoped>\n",
              "    .dataframe tbody tr th:only-of-type {\n",
              "        vertical-align: middle;\n",
              "    }\n",
              "\n",
              "    .dataframe tbody tr th {\n",
              "        vertical-align: top;\n",
              "    }\n",
              "\n",
              "    .dataframe thead th {\n",
              "        text-align: right;\n",
              "    }\n",
              "</style>\n",
              "<table border=\"1\" class=\"dataframe\">\n",
              "  <thead>\n",
              "    <tr style=\"text-align: right;\">\n",
              "      <th></th>\n",
              "      <th>Unnamed: 0</th>\n",
              "      <th>Cod</th>\n",
              "      <th>Water</th>\n",
              "      <th>Ash</th>\n",
              "      <th>Volatil</th>\n",
              "      <th>FixC</th>\n",
              "      <th>NetCal</th>\n",
              "      <th>Carbon</th>\n",
              "      <th>Hydrog</th>\n",
              "      <th>Nitro</th>\n",
              "      <th>Sulfur</th>\n",
              "      <th>Oxygen</th>\n",
              "      <th>TC</th>\n",
              "      <th>Ea</th>\n",
              "    </tr>\n",
              "  </thead>\n",
              "  <tbody>\n",
              "    <tr>\n",
              "      <th>59</th>\n",
              "      <td>60</td>\n",
              "      <td>DU4PX2LQ4</td>\n",
              "      <td>1.84</td>\n",
              "      <td>30.82</td>\n",
              "      <td>15.93</td>\n",
              "      <td>51.51</td>\n",
              "      <td>22.46</td>\n",
              "      <td>57.02</td>\n",
              "      <td>3.10</td>\n",
              "      <td>1.00</td>\n",
              "      <td>0.73</td>\n",
              "      <td>5.49</td>\n",
              "      <td>475</td>\n",
              "      <td>250.1</td>\n",
              "    </tr>\n",
              "    <tr>\n",
              "      <th>60</th>\n",
              "      <td>61</td>\n",
              "      <td>XW2HN4LQ4</td>\n",
              "      <td>1.92</td>\n",
              "      <td>20.56</td>\n",
              "      <td>19.55</td>\n",
              "      <td>57.97</td>\n",
              "      <td>26.11</td>\n",
              "      <td>66.64</td>\n",
              "      <td>3.58</td>\n",
              "      <td>1.15</td>\n",
              "      <td>0.60</td>\n",
              "      <td>5.55</td>\n",
              "      <td>475</td>\n",
              "      <td>252.8</td>\n",
              "    </tr>\n",
              "    <tr>\n",
              "      <th>61</th>\n",
              "      <td>62</td>\n",
              "      <td>YM4LA4JC2</td>\n",
              "      <td>5.70</td>\n",
              "      <td>16.22</td>\n",
              "      <td>19.05</td>\n",
              "      <td>59.03</td>\n",
              "      <td>25.28</td>\n",
              "      <td>66.86</td>\n",
              "      <td>3.32</td>\n",
              "      <td>1.16</td>\n",
              "      <td>0.39</td>\n",
              "      <td>6.35</td>\n",
              "      <td>408</td>\n",
              "      <td>176.4</td>\n",
              "    </tr>\n",
              "    <tr>\n",
              "      <th>62</th>\n",
              "      <td>63</td>\n",
              "      <td>YY2HN4LQ4</td>\n",
              "      <td>2.02</td>\n",
              "      <td>20.02</td>\n",
              "      <td>19.57</td>\n",
              "      <td>58.40</td>\n",
              "      <td>25.26</td>\n",
              "      <td>66.78</td>\n",
              "      <td>3.62</td>\n",
              "      <td>1.17</td>\n",
              "      <td>0.54</td>\n",
              "      <td>5.85</td>\n",
              "      <td>475</td>\n",
              "      <td>252.4</td>\n",
              "    </tr>\n",
              "    <tr>\n",
              "      <th>63</th>\n",
              "      <td>64</td>\n",
              "      <td>YY2PX2LA6</td>\n",
              "      <td>2.05</td>\n",
              "      <td>19.30</td>\n",
              "      <td>17.23</td>\n",
              "      <td>61.42</td>\n",
              "      <td>26.70</td>\n",
              "      <td>68.15</td>\n",
              "      <td>3.50</td>\n",
              "      <td>1.23</td>\n",
              "      <td>0.62</td>\n",
              "      <td>5.15</td>\n",
              "      <td>481</td>\n",
              "      <td>256.0</td>\n",
              "    </tr>\n",
              "  </tbody>\n",
              "</table>\n",
              "</div>"
            ],
            "text/plain": [
              "    Unnamed: 0        Cod  Water    Ash  ...  Sulfur  Oxygen   TC     Ea\n",
              "59          60  DU4PX2LQ4   1.84  30.82  ...    0.73    5.49  475  250.1\n",
              "60          61  XW2HN4LQ4   1.92  20.56  ...    0.60    5.55  475  252.8\n",
              "61          62  YM4LA4JC2   5.70  16.22  ...    0.39    6.35  408  176.4\n",
              "62          63  YY2HN4LQ4   2.02  20.02  ...    0.54    5.85  475  252.4\n",
              "63          64  YY2PX2LA6   2.05  19.30  ...    0.62    5.15  481  256.0\n",
              "\n",
              "[5 rows x 14 columns]"
            ]
          },
          "metadata": {
            "tags": []
          },
          "execution_count": 144
        }
      ]
    },
    {
      "cell_type": "code",
      "metadata": {
        "id": "y0bEoPrIf7JM"
      },
      "source": [
        "Dat_Select=df.iloc[:,2:]"
      ],
      "execution_count": 145,
      "outputs": []
    },
    {
      "cell_type": "code",
      "metadata": {
        "colab": {
          "base_uri": "https://localhost:8080/",
          "height": 206
        },
        "id": "13imnDJ-f8WK",
        "outputId": "f2317819-7f35-4772-9eb5-62a8a6efe13f"
      },
      "source": [
        "Dat_Select.head(5)"
      ],
      "execution_count": 146,
      "outputs": [
        {
          "output_type": "execute_result",
          "data": {
            "text/html": [
              "<div>\n",
              "<style scoped>\n",
              "    .dataframe tbody tr th:only-of-type {\n",
              "        vertical-align: middle;\n",
              "    }\n",
              "\n",
              "    .dataframe tbody tr th {\n",
              "        vertical-align: top;\n",
              "    }\n",
              "\n",
              "    .dataframe thead th {\n",
              "        text-align: right;\n",
              "    }\n",
              "</style>\n",
              "<table border=\"1\" class=\"dataframe\">\n",
              "  <thead>\n",
              "    <tr style=\"text-align: right;\">\n",
              "      <th></th>\n",
              "      <th>Water</th>\n",
              "      <th>Ash</th>\n",
              "      <th>Volatil</th>\n",
              "      <th>FixC</th>\n",
              "      <th>NetCal</th>\n",
              "      <th>Carbon</th>\n",
              "      <th>Hydrog</th>\n",
              "      <th>Nitro</th>\n",
              "      <th>Sulfur</th>\n",
              "      <th>Oxygen</th>\n",
              "      <th>TC</th>\n",
              "      <th>Ea</th>\n",
              "    </tr>\n",
              "  </thead>\n",
              "  <tbody>\n",
              "    <tr>\n",
              "      <th>0</th>\n",
              "      <td>4.19</td>\n",
              "      <td>19.45</td>\n",
              "      <td>33.19</td>\n",
              "      <td>43.17</td>\n",
              "      <td>23.91</td>\n",
              "      <td>59.22</td>\n",
              "      <td>4.08</td>\n",
              "      <td>1.02</td>\n",
              "      <td>4.38</td>\n",
              "      <td>7.66</td>\n",
              "      <td>435</td>\n",
              "      <td>170.1</td>\n",
              "    </tr>\n",
              "    <tr>\n",
              "      <th>1</th>\n",
              "      <td>1.06</td>\n",
              "      <td>20.46</td>\n",
              "      <td>31.53</td>\n",
              "      <td>46.94</td>\n",
              "      <td>23.91</td>\n",
              "      <td>64.22</td>\n",
              "      <td>4.63</td>\n",
              "      <td>1.38</td>\n",
              "      <td>0.74</td>\n",
              "      <td>7.51</td>\n",
              "      <td>451</td>\n",
              "      <td>206.6</td>\n",
              "    </tr>\n",
              "    <tr>\n",
              "      <th>2</th>\n",
              "      <td>6.60</td>\n",
              "      <td>9.56</td>\n",
              "      <td>31.49</td>\n",
              "      <td>52.35</td>\n",
              "      <td>26.22</td>\n",
              "      <td>66.34</td>\n",
              "      <td>3.61</td>\n",
              "      <td>0.95</td>\n",
              "      <td>0.38</td>\n",
              "      <td>12.56</td>\n",
              "      <td>431</td>\n",
              "      <td>273.5</td>\n",
              "    </tr>\n",
              "    <tr>\n",
              "      <th>3</th>\n",
              "      <td>9.47</td>\n",
              "      <td>14.19</td>\n",
              "      <td>30.02</td>\n",
              "      <td>46.32</td>\n",
              "      <td>23.80</td>\n",
              "      <td>58.44</td>\n",
              "      <td>2.92</td>\n",
              "      <td>0.83</td>\n",
              "      <td>0.44</td>\n",
              "      <td>13.71</td>\n",
              "      <td>403</td>\n",
              "      <td>160.8</td>\n",
              "    </tr>\n",
              "    <tr>\n",
              "      <th>4</th>\n",
              "      <td>1.84</td>\n",
              "      <td>18.10</td>\n",
              "      <td>29.43</td>\n",
              "      <td>50.63</td>\n",
              "      <td>27.73</td>\n",
              "      <td>65.88</td>\n",
              "      <td>4.06</td>\n",
              "      <td>1.22</td>\n",
              "      <td>0.88</td>\n",
              "      <td>8.02</td>\n",
              "      <td>466</td>\n",
              "      <td>228.4</td>\n",
              "    </tr>\n",
              "  </tbody>\n",
              "</table>\n",
              "</div>"
            ],
            "text/plain": [
              "   Water    Ash  Volatil   FixC  NetCal  ...  Nitro  Sulfur  Oxygen   TC     Ea\n",
              "0   4.19  19.45    33.19  43.17   23.91  ...   1.02    4.38    7.66  435  170.1\n",
              "1   1.06  20.46    31.53  46.94   23.91  ...   1.38    0.74    7.51  451  206.6\n",
              "2   6.60   9.56    31.49  52.35   26.22  ...   0.95    0.38   12.56  431  273.5\n",
              "3   9.47  14.19    30.02  46.32   23.80  ...   0.83    0.44   13.71  403  160.8\n",
              "4   1.84  18.10    29.43  50.63   27.73  ...   1.22    0.88    8.02  466  228.4\n",
              "\n",
              "[5 rows x 12 columns]"
            ]
          },
          "metadata": {
            "tags": []
          },
          "execution_count": 146
        }
      ]
    },
    {
      "cell_type": "code",
      "metadata": {
        "id": "SFCbiyBYgAA1"
      },
      "source": [
        "# Separa os dados em normatizados e originais\n",
        "X = Dat_Select[['Water','Ash','Volatil','FixC']]\n",
        "y = np.array(Dat_Select[['NetCal']]).reshape(-1,1)"
      ],
      "execution_count": 147,
      "outputs": []
    },
    {
      "cell_type": "code",
      "metadata": {
        "id": "-NWDlUDzoWkp"
      },
      "source": [
        "X_train, X_test, y_train, y_test = train_test_split(X,y,test_size=0.10, shuffle=True, random_state=3)"
      ],
      "execution_count": 148,
      "outputs": []
    },
    {
      "cell_type": "code",
      "metadata": {
        "id": "Ef7PxxGcopnm"
      },
      "source": [
        "scaler_X = preprocessing.MinMaxScaler((-1,1)).fit(X)\n",
        "scaler_Y = preprocessing.MinMaxScaler((-1,1)).fit(y)"
      ],
      "execution_count": 149,
      "outputs": []
    },
    {
      "cell_type": "code",
      "metadata": {
        "id": "KjwwLtk9oup5"
      },
      "source": [
        "X_train = scaler_X.transform(X_train)\n",
        "X_test = scaler_X.transform(X_test)\n",
        "y_train = scaler_Y.transform(y_train)\n",
        "y_test = scaler_Y.transform(y_test)"
      ],
      "execution_count": 150,
      "outputs": []
    },
    {
      "cell_type": "code",
      "metadata": {
        "colab": {
          "base_uri": "https://localhost:8080/"
        },
        "id": "YkVjWaULowWl",
        "outputId": "f44c20e5-a692-4e78-adb9-1dcf9226e95d"
      },
      "source": [
        "HN1 =[]\n",
        "train_R2 =[]\n",
        "test_R2 =[]\n",
        "for i in range(5,30):\n",
        "    # define a rede neural \n",
        "    model = MLPRegressor(solver='lbfgs',activation='tanh',alpha=1e-5,hidden_layer_sizes=(i),\n",
        "                         random_state=11,max_iter=2500)\n",
        "    # treina a rede neural\n",
        "    model.fit(X_train, y_train)\n",
        "    # usa a rede neural treina em calculos para treino e teste\n",
        "    y_calc_train=model.predict(X_train)\n",
        "    y_calc_test=model.predict(X_test)\n",
        "    # transforma dos dados calculados na forma original (nao normatizado)\n",
        "    y_obs_train=scaler_Y.inverse_transform(np.array(y_train).reshape(-1,1))\n",
        "    y_obs_test=scaler_Y.inverse_transform(np.array(y_test).reshape(-1,1))\n",
        "    y_calc_train=scaler_Y.inverse_transform(y_calc_train.reshape(-1,1))\n",
        "    y_calc_test=scaler_Y.inverse_transform(y_calc_test.reshape(-1,1))\n",
        "    mse=mean_squared_error(y_obs_test,y_calc_test)\n",
        "    R2_teste=r2_score(y_obs_test,y_calc_test)\n",
        "    R2_treino=r2_score(y_obs_train,y_calc_train)\n",
        "    #print(\"i=\",i\"R^2 treino=\",R2_treino,\"R^2 teste=\",R2_teste)\n",
        "    HN1.append(i)\n",
        "    train_R2.append(R2_treino)\n",
        "    test_R2.append(R2_teste)"
      ],
      "execution_count": 151,
      "outputs": [
        {
          "output_type": "stream",
          "text": [
            "/usr/local/lib/python3.7/dist-packages/sklearn/neural_network/_multilayer_perceptron.py:1342: DataConversionWarning: A column-vector y was passed when a 1d array was expected. Please change the shape of y to (n_samples, ), for example using ravel().\n",
            "  y = column_or_1d(y, warn=True)\n",
            "/usr/local/lib/python3.7/dist-packages/sklearn/neural_network/_multilayer_perceptron.py:1342: DataConversionWarning: A column-vector y was passed when a 1d array was expected. Please change the shape of y to (n_samples, ), for example using ravel().\n",
            "  y = column_or_1d(y, warn=True)\n",
            "/usr/local/lib/python3.7/dist-packages/sklearn/neural_network/_multilayer_perceptron.py:1342: DataConversionWarning: A column-vector y was passed when a 1d array was expected. Please change the shape of y to (n_samples, ), for example using ravel().\n",
            "  y = column_or_1d(y, warn=True)\n",
            "/usr/local/lib/python3.7/dist-packages/sklearn/neural_network/_multilayer_perceptron.py:1342: DataConversionWarning: A column-vector y was passed when a 1d array was expected. Please change the shape of y to (n_samples, ), for example using ravel().\n",
            "  y = column_or_1d(y, warn=True)\n",
            "/usr/local/lib/python3.7/dist-packages/sklearn/neural_network/_multilayer_perceptron.py:1342: DataConversionWarning: A column-vector y was passed when a 1d array was expected. Please change the shape of y to (n_samples, ), for example using ravel().\n",
            "  y = column_or_1d(y, warn=True)\n",
            "/usr/local/lib/python3.7/dist-packages/sklearn/neural_network/_multilayer_perceptron.py:1342: DataConversionWarning: A column-vector y was passed when a 1d array was expected. Please change the shape of y to (n_samples, ), for example using ravel().\n",
            "  y = column_or_1d(y, warn=True)\n",
            "/usr/local/lib/python3.7/dist-packages/sklearn/neural_network/_multilayer_perceptron.py:1342: DataConversionWarning: A column-vector y was passed when a 1d array was expected. Please change the shape of y to (n_samples, ), for example using ravel().\n",
            "  y = column_or_1d(y, warn=True)\n",
            "/usr/local/lib/python3.7/dist-packages/sklearn/neural_network/_multilayer_perceptron.py:1342: DataConversionWarning: A column-vector y was passed when a 1d array was expected. Please change the shape of y to (n_samples, ), for example using ravel().\n",
            "  y = column_or_1d(y, warn=True)\n",
            "/usr/local/lib/python3.7/dist-packages/sklearn/neural_network/_multilayer_perceptron.py:1342: DataConversionWarning: A column-vector y was passed when a 1d array was expected. Please change the shape of y to (n_samples, ), for example using ravel().\n",
            "  y = column_or_1d(y, warn=True)\n",
            "/usr/local/lib/python3.7/dist-packages/sklearn/neural_network/_multilayer_perceptron.py:1342: DataConversionWarning: A column-vector y was passed when a 1d array was expected. Please change the shape of y to (n_samples, ), for example using ravel().\n",
            "  y = column_or_1d(y, warn=True)\n",
            "/usr/local/lib/python3.7/dist-packages/sklearn/neural_network/_multilayer_perceptron.py:1342: DataConversionWarning: A column-vector y was passed when a 1d array was expected. Please change the shape of y to (n_samples, ), for example using ravel().\n",
            "  y = column_or_1d(y, warn=True)\n",
            "/usr/local/lib/python3.7/dist-packages/sklearn/neural_network/_multilayer_perceptron.py:1342: DataConversionWarning: A column-vector y was passed when a 1d array was expected. Please change the shape of y to (n_samples, ), for example using ravel().\n",
            "  y = column_or_1d(y, warn=True)\n",
            "/usr/local/lib/python3.7/dist-packages/sklearn/neural_network/_multilayer_perceptron.py:1342: DataConversionWarning: A column-vector y was passed when a 1d array was expected. Please change the shape of y to (n_samples, ), for example using ravel().\n",
            "  y = column_or_1d(y, warn=True)\n",
            "/usr/local/lib/python3.7/dist-packages/sklearn/neural_network/_multilayer_perceptron.py:1342: DataConversionWarning: A column-vector y was passed when a 1d array was expected. Please change the shape of y to (n_samples, ), for example using ravel().\n",
            "  y = column_or_1d(y, warn=True)\n",
            "/usr/local/lib/python3.7/dist-packages/sklearn/neural_network/_multilayer_perceptron.py:1342: DataConversionWarning: A column-vector y was passed when a 1d array was expected. Please change the shape of y to (n_samples, ), for example using ravel().\n",
            "  y = column_or_1d(y, warn=True)\n",
            "/usr/local/lib/python3.7/dist-packages/sklearn/neural_network/_multilayer_perceptron.py:1342: DataConversionWarning: A column-vector y was passed when a 1d array was expected. Please change the shape of y to (n_samples, ), for example using ravel().\n",
            "  y = column_or_1d(y, warn=True)\n",
            "/usr/local/lib/python3.7/dist-packages/sklearn/neural_network/_multilayer_perceptron.py:1342: DataConversionWarning: A column-vector y was passed when a 1d array was expected. Please change the shape of y to (n_samples, ), for example using ravel().\n",
            "  y = column_or_1d(y, warn=True)\n",
            "/usr/local/lib/python3.7/dist-packages/sklearn/neural_network/_multilayer_perceptron.py:1342: DataConversionWarning: A column-vector y was passed when a 1d array was expected. Please change the shape of y to (n_samples, ), for example using ravel().\n",
            "  y = column_or_1d(y, warn=True)\n",
            "/usr/local/lib/python3.7/dist-packages/sklearn/neural_network/_multilayer_perceptron.py:1342: DataConversionWarning: A column-vector y was passed when a 1d array was expected. Please change the shape of y to (n_samples, ), for example using ravel().\n",
            "  y = column_or_1d(y, warn=True)\n",
            "/usr/local/lib/python3.7/dist-packages/sklearn/neural_network/_multilayer_perceptron.py:1342: DataConversionWarning: A column-vector y was passed when a 1d array was expected. Please change the shape of y to (n_samples, ), for example using ravel().\n",
            "  y = column_or_1d(y, warn=True)\n",
            "/usr/local/lib/python3.7/dist-packages/sklearn/neural_network/_multilayer_perceptron.py:1342: DataConversionWarning: A column-vector y was passed when a 1d array was expected. Please change the shape of y to (n_samples, ), for example using ravel().\n",
            "  y = column_or_1d(y, warn=True)\n",
            "/usr/local/lib/python3.7/dist-packages/sklearn/neural_network/_multilayer_perceptron.py:1342: DataConversionWarning: A column-vector y was passed when a 1d array was expected. Please change the shape of y to (n_samples, ), for example using ravel().\n",
            "  y = column_or_1d(y, warn=True)\n",
            "/usr/local/lib/python3.7/dist-packages/sklearn/neural_network/_multilayer_perceptron.py:1342: DataConversionWarning: A column-vector y was passed when a 1d array was expected. Please change the shape of y to (n_samples, ), for example using ravel().\n",
            "  y = column_or_1d(y, warn=True)\n",
            "/usr/local/lib/python3.7/dist-packages/sklearn/neural_network/_multilayer_perceptron.py:1342: DataConversionWarning: A column-vector y was passed when a 1d array was expected. Please change the shape of y to (n_samples, ), for example using ravel().\n",
            "  y = column_or_1d(y, warn=True)\n",
            "/usr/local/lib/python3.7/dist-packages/sklearn/neural_network/_multilayer_perceptron.py:1342: DataConversionWarning: A column-vector y was passed when a 1d array was expected. Please change the shape of y to (n_samples, ), for example using ravel().\n",
            "  y = column_or_1d(y, warn=True)\n"
          ],
          "name": "stderr"
        }
      ]
    },
    {
      "cell_type": "code",
      "metadata": {
        "id": "sWYWb3ylpXXG"
      },
      "source": [
        "df = pd.DataFrame({'camada 1':HN1,'R2 treino':train_R2,'R2 teste':test_R2})"
      ],
      "execution_count": 152,
      "outputs": []
    },
    {
      "cell_type": "code",
      "metadata": {
        "colab": {
          "base_uri": "https://localhost:8080/"
        },
        "id": "uNHAROtipgsk",
        "outputId": "2b20cc43-4c84-443d-c12c-c1ef0a3aa1a9"
      },
      "source": [
        "pd.set_option('display.max_rows', None)\n",
        "print(df)"
      ],
      "execution_count": 153,
      "outputs": [
        {
          "output_type": "stream",
          "text": [
            "    camada 1  R2 treino  R2 teste\n",
            "0          5   0.976282  0.754637\n",
            "1          6   0.981938 -3.073447\n",
            "2          7   0.983851 -0.240316\n",
            "3          8   0.985651  0.920286\n",
            "4          9   0.981245  0.885060\n",
            "5         10   0.984541  0.246328\n",
            "6         11   0.995977  0.378233\n",
            "7         12   0.983904  0.898468\n",
            "8         13   0.984724  0.846712\n",
            "9         14   0.995179 -0.382637\n",
            "10        15   0.983410 -0.962633\n",
            "11        16   0.983393  0.659818\n",
            "12        17   0.985771  0.844243\n",
            "13        18   0.995425 -1.889481\n",
            "14        19   0.996355  0.009152\n",
            "15        20   0.985181  0.754058\n",
            "16        21   0.995936  0.075480\n",
            "17        22   0.997000  0.203728\n",
            "18        23   0.994264 -0.817756\n",
            "19        24   0.984309  0.939897\n",
            "20        25   0.995327  0.281788\n",
            "21        26   0.997290 -0.119222\n",
            "22        27   0.993234  0.368183\n",
            "23        28   0.996339  0.797949\n",
            "24        29   0.982908 -0.262985\n"
          ],
          "name": "stdout"
        }
      ]
    },
    {
      "cell_type": "code",
      "metadata": {
        "id": "nZeStQN-vjhx"
      },
      "source": [
        "rows, cols =df.shape"
      ],
      "execution_count": 154,
      "outputs": []
    },
    {
      "cell_type": "code",
      "metadata": {
        "colab": {
          "base_uri": "https://localhost:8080/"
        },
        "id": "Rb1xcvlXvqme",
        "outputId": "e561591a-5b90-491a-d6ac-a169498139f5"
      },
      "source": [
        "melhor = 0\n",
        "place = 0\n",
        "\n",
        "rteste1=0\n",
        "\n",
        "\n",
        "for i in range(rows):\n",
        "  rtreino =df.iloc[i,1]\n",
        "  rteste =df.iloc[i,2]\n",
        "  if(rteste > rteste1 ):\n",
        "      melhor = rtreino\n",
        "      place = i\n",
        "      rteste1 = rteste\n",
        "          \n",
        "print('place',place)\n",
        "print(df.iloc[place,:])\n"
      ],
      "execution_count": 155,
      "outputs": [
        {
          "output_type": "stream",
          "text": [
            "place 19\n",
            "camada 1     24.000000\n",
            "R2 treino     0.984309\n",
            "R2 teste      0.939897\n",
            "Name: 19, dtype: float64\n"
          ],
          "name": "stdout"
        }
      ]
    }
  ]
}